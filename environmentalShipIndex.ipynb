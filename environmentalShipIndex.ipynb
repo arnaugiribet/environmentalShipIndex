{
 "cells": [
  {
   "cell_type": "code",
   "execution_count": 1,
   "metadata": {},
   "outputs": [],
   "source": [
    "from random import randint\n",
    "from time import sleep\n",
    "import pandas as pd\n",
    "from selenium import webdriver\n",
    "from selenium.webdriver.common.keys import Keys\n",
    "from selenium.webdriver.chrome.service import Service\n",
    "from selenium.webdriver.common.by import By\n",
    "from selenium.webdriver.support.ui import Select\n",
    "import os\n",
    "def s(t1,t2):\n",
    "    sleep(randint(1000*t1,1000*t1+1000*t2)/1000)"
   ]
  },
  {
   "cell_type": "code",
   "execution_count": 2,
   "metadata": {},
   "outputs": [],
   "source": [
    "serv = Service('chromedriver.exe')\n",
    "driver = webdriver.Chrome(service=serv)\n",
    "link = 'https://www.environmentalshipindex.org/public'\n",
    "driver.get(link)"
   ]
  },
  {
   "cell_type": "code",
   "execution_count": null,
   "metadata": {},
   "outputs": [],
   "source": [
    "ships = pd.DataFrame({\n",
    "    'ship_excel':[],\n",
    "    'ship_web':[],\n",
    "    'IMO' :[],\n",
    "    'owner':[],\n",
    "    'valid from':[],\n",
    "    'valid until':[],\n",
    "    'ESI':[]})\n",
    "ships_list = pd.read_excel(r'ESI per consultar.xlsx', sheet_name='ships').loc[:,'ship']"
   ]
  },
  {
   "cell_type": "code",
   "execution_count": null,
   "metadata": {},
   "outputs": [],
   "source": [
    "#loop per nom de vaixell\n",
    "\n",
    "for ship_i in ships_list:\n",
    "    print(ship_i)\n",
    "    textInputElement=driver.find_element(by=By.XPATH, value= '/html/body/app-root/div/ng-component/div/div[2]/div/input')\n",
    "    textInputElement.clear()\n",
    "    textInputElement.send_keys(ship_i)\n",
    "    driver.find_element(by=By.XPATH, value= '/html/body/app-root/div/ng-component/div/div[2]/div/button').click()\n",
    "    s(2,1)\n",
    "\n",
    "    table=driver.find_element(by=By.XPATH, value= '//*[@id=\"ship-overview-table\"]/div/div/table/tbody')\n",
    "    rows=table.find_elements(by=By.XPATH, value='//tr')\n",
    "\n",
    "    for row_i in rows:\n",
    "\n",
    "        cols=row_i.find_elements(by=By.XPATH, value='td')\n",
    "        table_ship_i = pd.DataFrame({\n",
    "            'ship_excel':[ship_i],\n",
    "            'ship_web':[cols[0].text],\n",
    "            'IMO' :[cols[1].text],\n",
    "            'owner':[cols[2].text],\n",
    "            'valid from':[cols[3].text],\n",
    "            'valid until':[cols[4].text],\n",
    "            'ESI':[cols[5].text]})\n",
    "        ships=pd.concat([ships,table_ship_i])"
   ]
  },
  {
   "cell_type": "code",
   "execution_count": null,
   "metadata": {},
   "outputs": [],
   "source": [
    "ships.to_excel('output/ESI_tarragona.xlsx')"
   ]
  },
  {
   "cell_type": "code",
   "execution_count": 47,
   "metadata": {},
   "outputs": [],
   "source": [
    "ships = pd.DataFrame({\n",
    "    'IMO_excel':[],\n",
    "    'IMO_web':[],\n",
    "    'ship' :[],\n",
    "    'owner':[],\n",
    "    'valid from':[],\n",
    "    'valid until':[],\n",
    "    'ESI':[]})\n",
    "IMOs_list = pd.read_excel(r'ESI per consultar.xlsx', sheet_name='IMOs').loc[:,'IMO']"
   ]
  },
  {
   "cell_type": "code",
   "execution_count": 54,
   "metadata": {
    "scrolled": true
   },
   "source": [
    "#loop per imo\n",
    "\n",
    "for IMO_i in IMOs_list:\n",
    "    IMO_i=str(IMO_i)\n",
    "    print(IMO_i)\n",
    "    textInputElement=driver.find_element(by=By.XPATH, value= '/html/body/app-root/div/ng-component/div/div[2]/div/input')\n",
    "    textInputElement.clear()\n",
    "    textInputElement.send_keys(IMO_i)\n",
    "    driver.find_element(by=By.XPATH, value= '/html/body/app-root/div/ng-component/div/div[2]/div/button').click()\n",
    "    s(2,1)\n",
    "\n",
    "    table=driver.find_element(by=By.XPATH, value= '//*[@id=\"ship-overview-table\"]/div/div/table/tbody')\n",
    "    rows=table.find_elements(by=By.XPATH, value='//tr')\n",
    "\n",
    "    for row_i in rows:\n",
    "\n",
    "        cols=row_i.find_elements(by=By.XPATH, value='td')\n",
    "        \n",
    "        table_ship_i = pd.DataFrame({\n",
    "            'IMO_excel':[IMO_i],\n",
    "            'IMO_web':[cols[1].text],\n",
    "            'ship':[cols[0].text],\n",
    "            'owner':[cols[2].text],\n",
    "            'valid from':[cols[3].text],\n",
    "            'valid until':[cols[4].text],\n",
    "            'ESI':[cols[5].text]})\n",
    "        \n",
    "        if table_ship_i['IMO_web'][0] != '':\n",
    "            print(table_ship_i['IMO_web'][0] + ' ' + table_ship_i['ship'][0])\n",
    "        \n",
    "        ships=pd.concat([ships,table_ship_i])"
   ]
  },
  {
   "cell_type": "code",
   "execution_count": 55,
   "metadata": {},
   "outputs": [],
   "source": [
    "ships.to_excel('output/ESI_altres.xlsx')"
   ]
  }
 ],
 "metadata": {
  "kernelspec": {
   "display_name": "Python 3 (ipykernel)",
   "language": "python",
   "name": "python3"
  },
  "language_info": {
   "codemirror_mode": {
    "name": "ipython",
    "version": 3
   },
   "file_extension": ".py",
   "mimetype": "text/x-python",
   "name": "python",
   "nbconvert_exporter": "python",
   "pygments_lexer": "ipython3",
   "version": "3.9.13"
  }
 },
 "nbformat": 4,
 "nbformat_minor": 2
}
